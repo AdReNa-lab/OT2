{
 "cells": [
  {
   "cell_type": "markdown",
   "metadata": {},
   "source": [
    "# Protocol debugger"
   ]
  },
  {
   "cell_type": "markdown",
   "metadata": {},
   "source": [
    "This notebook speeds up the process of debugging a protocol script.\n",
    "\n",
    "---\n",
    "\n",
    "Previously, the user would need to:\n",
    "1. Manually save their protocol's notebook file as a Python script (`File` > `Download as...`)\n",
    "1. ...and then (inside a python terminal), run: `opentrons_simulate my_protocol.py`\n",
    "\n",
    "Note, if using custom labware defenitions, they would need to append `--custom-labware-path=\"C:\\Custom Labware\"`\n",
    "\n",
    "---\n",
    "\n",
    "The difficulty with the 'manual' method above is that:\n",
    "- On each occasion the Python script is downloaded, the `.py` filename changed.\n",
    "- The simulation log files were not easy to analyse in details.\n",
    "- Defining the `--custom-labware-path` was easy to  \n",
    "Essentially, the process is cumbersome which leads to users debugging their protocols too infrequently!"
   ]
  },
  {
   "cell_type": "markdown",
   "metadata": {},
   "source": [
    "### Import the required libraries\n",
    "Check to see if a module/package is already imported using `dir()`.\n",
    "This is for efficiency when repeatedly running of this script."
   ]
  },
  {
   "cell_type": "code",
   "execution_count": 169,
   "metadata": {},
   "outputs": [],
   "source": [
    "if 'os' not in dir():\n",
    "    import os\n",
    "\n",
    "if 'simulate' not in dir():\n",
    "    from opentrons.simulate import simulate\n",
    "\n",
    "if 'io' not in dir():\n",
    "    import io\n",
    "\n",
    "if 'transform_notebook' not in dir():\n",
    "    from notebooktoall.transform import transform_notebook\n",
    "\n",
    "if 'pprint' not in dir():\n",
    "    from pprint import pprint\n",
    "    \n",
    "if 'Tk' not in dir():\n",
    "    from tkinter import Tk\n",
    "    from tkinter.filedialog import askopenfilename, askdirectory"
   ]
  },
  {
   "cell_type": "markdown",
   "metadata": {},
   "source": [
    "Note, manually installing `notebooktoall`, `tk` and `pprint` may be required.\n",
    "\n",
    "If this is the case (and to guarantee the packages are installed for the current Python kernel / virtual environment):\n",
    "\n",
    "1. Open either:\n",
    "    - the Jupyter terminal\n",
    "    - a cell in this workbook (and prefix the commands below with an `!` mark) \n",
    "1. ... and run `pip install notebooktoall` etc."
   ]
  },
  {
   "cell_type": "markdown",
   "metadata": {},
   "source": [
    "# User variables"
   ]
  },
  {
   "cell_type": "markdown",
   "metadata": {},
   "source": [
    "### Notebook directory\n",
    "Defining `notebook_path` using interactive dialogue box.\n",
    "\n",
    "Note, the dialogue will only appear on the first run of this script. To redefine this variable, restart the kernel."
   ]
  },
  {
   "cell_type": "code",
   "execution_count": 170,
   "metadata": {},
   "outputs": [
    {
     "name": "stdout",
     "output_type": "stream",
     "text": [
      "notebook_path:\n",
      "C:/Users/yannm/Opentrons/SampleProtocol_v5.0.0.ipynb\n"
     ]
    }
   ],
   "source": [
    "if 'notebook_path' not in dir():\n",
    "    # withdraw tkinter root window\n",
    "    root = Tk()\n",
    "    root.attributes(\"-topmost\", True) # raise to be in front of other windows\n",
    "    root.withdraw()\n",
    "\n",
    "    # open dialog box and return the path to the selected file\n",
    "    notebook_path = askopenfilename(initialdir = os.getcwd(),\n",
    "                                         title = \"Select protocol's notebook\",\n",
    "                                         filetypes = ((\"Python notebooks\",\"*.ipynb\"),(\"all files\",\"*.*\"))) \n",
    "\n",
    "print('notebook_path:')\n",
    "print(notebook_path)"
   ]
  },
  {
   "cell_type": "markdown",
   "metadata": {},
   "source": [
    "### Labware directory\n",
    "Defining `custom_labware_directory` using interactive dialogue box.\n",
    "\n",
    "Note, the dialogue will only appear on the first run of this script. To redefine this variable, restart the kernel."
   ]
  },
  {
   "cell_type": "code",
   "execution_count": 171,
   "metadata": {},
   "outputs": [
    {
     "name": "stdout",
     "output_type": "stream",
     "text": [
      "custom_labware_directory:\n",
      "C:/Users/yannm/Opentrons/Custom_labware\n"
     ]
    }
   ],
   "source": [
    "# Custom labware\n",
    "using_custom_labware = True # Set to True or False\n",
    "\n",
    "if using_custom_labware:\n",
    "    if 'custom_labware_directory' not in dir():\n",
    "        # withdraw tkinter root window\n",
    "        root = Tk()\n",
    "        root.attributes(\"-topmost\", True) # raise to be in front of other windows\n",
    "        root.withdraw()\n",
    "\n",
    "        # open dialog box and return the path to the entered folder\n",
    "        custom_labware_directory = askdirectory(initialdir = os.getcwd(),\n",
    "                                                title = \"Enter the folder containing custom labware definitions\") \n",
    "    \n",
    "    # Only prints if using_custom_labware = True \n",
    "    print('custom_labware_directory:')\n",
    "    print(custom_labware_directory)"
   ]
  },
  {
   "cell_type": "markdown",
   "metadata": {},
   "source": [
    "# Automated conversion"
   ]
  },
  {
   "cell_type": "code",
   "execution_count": 172,
   "metadata": {},
   "outputs": [
    {
     "name": "stdout",
     "output_type": "stream",
     "text": [
      "Removing previous .py script...\n"
     ]
    }
   ],
   "source": [
    "script_path = os.path.splitext(notebook_path)[0] + '.py'\n",
    "\n",
    "if os.path.exists(script_path):\n",
    "    print('Removing previous .py script...')\n",
    "    os.remove(script_path)"
   ]
  },
  {
   "cell_type": "markdown",
   "metadata": {},
   "source": [
    "### Perform the transformation"
   ]
  },
  {
   "cell_type": "code",
   "execution_count": 173,
   "metadata": {},
   "outputs": [
    {
     "name": "stdout",
     "output_type": "stream",
     "text": [
      "Generating new .py version...\n"
     ]
    }
   ],
   "source": [
    "print('Generating new .py version...')\n",
    "\n",
    "transform_notebook(ipynb_file=notebook_path,\n",
    "                   export_list=['py'])"
   ]
  },
  {
   "cell_type": "code",
   "execution_count": 174,
   "metadata": {},
   "outputs": [
    {
     "name": "stdout",
     "output_type": "stream",
     "text": [
      "File converted:\n",
      "C:/Users/yannm/Opentrons/SampleProtocol_v5.0.0.py\n"
     ]
    }
   ],
   "source": [
    "#Check the conversion worked\n",
    "if os.path.exists(script_path):\n",
    "    print('File converted:')\n",
    "    print(script_path)\n",
    "else:\n",
    "    raise ValueError('The <.py> file was not found')"
   ]
  },
  {
   "cell_type": "markdown",
   "metadata": {},
   "source": [
    "# Protocol simulation"
   ]
  },
  {
   "cell_type": "code",
   "execution_count": 175,
   "metadata": {
    "scrolled": false
   },
   "outputs": [
    {
     "name": "stdout",
     "output_type": "stream",
     "text": [
      "Volume mixing fraction at A1 of eppendorf on 2  is 0.33\n",
      "Immersion depth has been set >0, dispense will take place below the meniscus\n",
      "Immersion depth has been set >0, dispense will take place below the meniscus\n",
      "Immersion depth has been set >0, dispense will take place below the meniscus\n",
      "Immersion depth has been set >0, dispense will take place below the meniscus\n",
      "Immersion depth has been set >0, dispense will take place below the meniscus\n",
      "Volume mixing fraction at A1 of eppendorf on 2  is 0.33\n",
      "Immersion depth has been set >0, dispense will take place below the meniscus\n",
      "Immersion depth has been set >0, dispense will take place below the meniscus\n",
      "Immersion depth has been set >0, dispense will take place below the meniscus\n",
      "Immersion depth has been set >0, dispense will take place below the meniscus\n",
      "Immersion depth has been set >0, dispense will take place below the meniscus\n",
      "{'constituents_number': 0, 'volume': 300.0, 'headroom': 30.0, 'vh_functions': {'v_given_h': <function gradations_to_vh.<locals>.<lambda> at 0x1A5D82B0>, 'h_given_v': <function gradations_to_vh.<locals>.<lambda> at 0x1A5D8808>}, 'volume_uncertainty': {'random': 0.9006664199358163, 'systematic': 1.56}, 'constituents': ['dox', 'epi'], 'concentrations': {'dox': 5000.0, 'epi': 3333.3333333333335}, 'concentration_uncertainty': {'random': {'dox': 63.854000135726295, 'epi': 33.342221037352985}, 'systematic': {'dox': 137.33333333333334, 'epi': 51.333333333333336}}}\n",
      "Concentration of constituent dox in well A1 of eppendorf on 2 is 5137.33 ± 63.85 ng/mL\n"
     ]
    }
   ],
   "source": [
    "if using_custom_labware:\n",
    "    with open(script_path, 'r') as file:\n",
    "        run_log = simulate(protocol_file=file, custom_labware_paths = [custom_labware_directory])\n",
    "else:\n",
    "    with open(script_path, 'r') as file:\n",
    "        run_log = simulate(protocol_file=file)"
   ]
  },
  {
   "cell_type": "markdown",
   "metadata": {},
   "source": [
    "### Displaying logs..."
   ]
  },
  {
   "cell_type": "code",
   "execution_count": 176,
   "metadata": {},
   "outputs": [
    {
     "name": "stdout",
     "output_type": "stream",
     "text": [
      "Picking up tip from A1 of tiprack on 5\n",
      "\t Location:  A1 of tiprack on 5\n",
      "\t Instrument:  P300 Single-Channel GEN1 on right mount\n",
      "\n",
      "Aspirating 100.0 uL from A1 of falcon_50ml on 3 at 75.0 uL/sec\n",
      "\t Location:  Location(point=Point(x=293.58, y=62.9, z=105.41108695652173), labware=A1 of falcon_50ml on 3)\n",
      "\t Instrument:  P300 Single-Channel GEN1 on right mount\n",
      "\n",
      "Dispensing 100.0 uL into A1 of falcon_50ml on 3 at 300.0 uL/sec\n",
      "\t Location:  Location(point=Point(x=293.58, y=62.9, z=107.59999999999998), labware=A1 of falcon_50ml on 3)\n",
      "\t Instrument:  P300 Single-Channel GEN1 on right mount\n",
      "\n",
      "Aspirating 100.0 uL from A1 of falcon_50ml on 3 at 75.0 uL/sec\n",
      "\t Location:  Location(point=Point(x=293.58, y=62.9, z=105.41108695652171), labware=A1 of falcon_50ml on 3)\n",
      "\t Instrument:  P300 Single-Channel GEN1 on right mount\n",
      "\n",
      "Dispensing 100.0 uL into A1 of falcon_50ml on 3 at 300.0 uL/sec\n",
      "\t Location:  Location(point=Point(x=293.58, y=62.9, z=107.59999999999997), labware=A1 of falcon_50ml on 3)\n",
      "\t Instrument:  P300 Single-Channel GEN1 on right mount\n",
      "\n",
      "Aspirating 100.0 uL from A1 of falcon_50ml on 3 at 75.0 uL/sec\n",
      "\t Location:  Location(point=Point(x=293.58, y=62.9, z=105.4110869565217), labware=A1 of falcon_50ml on 3)\n",
      "\t Instrument:  P300 Single-Channel GEN1 on right mount\n",
      "\n",
      "Dispensing 100.0 uL into A1 of falcon_50ml on 3 at 300.0 uL/sec\n",
      "\t Location:  Location(point=Point(x=293.58, y=62.9, z=107.59999999999995), labware=A1 of falcon_50ml on 3)\n",
      "\t Instrument:  P300 Single-Channel GEN1 on right mount\n",
      "\n",
      "Blowing out at A1 of falcon_50ml on 3\n",
      "\t Location:  Location(point=Point(x=293.58, y=62.9, z=115.6), labware=A1 of falcon_50ml on 3)\n",
      "\t Instrument:  P300 Single-Channel GEN1 on right mount\n",
      "\n",
      "Aspirating 100.0 uL from A1 of falcon_50ml on 3 at 75.0 uL/sec\n",
      "\t Location:  Location(point=Point(x=293.58, y=62.9, z=105.4110869565217), labware=A1 of falcon_50ml on 3)\n",
      "\t Instrument:  P300 Single-Channel GEN1 on right mount\n",
      "\n",
      "Dispensing 100.0 uL into A1 of eppendorf on 2 at 300.0 uL/sec\n",
      "\t Location:  Location(point=Point(x=146.45, y=72.02, z=14.200000000000003), labware=A1 of eppendorf on 2)\n",
      "\t Instrument:  P300 Single-Channel GEN1 on right mount\n",
      "\n",
      "Aspirating 100.0 uL from A2 of falcon_50ml on 3 at 0.5 uL/sec\n",
      "\t Location:  Location(point=Point(x=330.08, y=62.9, z=105.41108695652173), labware=A2 of falcon_50ml on 3)\n",
      "\t Instrument:  P300 Single-Channel GEN1 on right mount\n",
      "\n",
      "Dispensing 100.0 uL into A1 of eppendorf on 2 at 1.0 uL/sec\n",
      "\t Location:  Location(point=Point(x=146.45, y=72.02, z=16.800000000000004), labware=A1 of eppendorf on 2)\n",
      "\t Instrument:  P300 Single-Channel GEN1 on right mount\n",
      "\n",
      "Blowing out at A1 of eppendorf on 2\n",
      "\t Location:  Location(point=Point(x=146.45, y=72.02, z=47.400000000000006), labware=A1 of eppendorf on 2)\n",
      "\t Instrument:  P300 Single-Channel GEN1 on right mount\n",
      "\n",
      "Aspirating 105.0 uL from A3 of falcon_50ml on 3 at 0.24666666666666667 uL/sec\n",
      "\t Location:  Location(point=Point(x=366.58, y=62.9, z=105.40164130434782), labware=A3 of falcon_50ml on 3)\n",
      "\t Instrument:  P300 Single-Channel GEN1 on right mount\n",
      "\n",
      "Dispensing 100.0 uL into A1 of eppendorf on 2 at 0.5 uL/sec\n",
      "\t Location:  Location(point=Point(x=146.45, y=72.02, z=19.400000000000006), labware=A1 of eppendorf on 2)\n",
      "\t Instrument:  P300 Single-Channel GEN1 on right mount\n",
      "\n",
      "Dispensing 5.0 uL into A3 of falcon_50ml on 3 at 300.0 uL/sec\n",
      "\t Location:  Location(point=Point(x=366.58, y=62.9, z=107.41108695652173), labware=A3 of falcon_50ml on 3)\n",
      "\t Instrument:  P300 Single-Channel GEN1 on right mount\n",
      "\n",
      "Blowing out at A3 of falcon_50ml on 3\n",
      "\t Location:  Location(point=Point(x=366.58, y=62.9, z=115.6), labware=A3 of falcon_50ml on 3)\n",
      "\t Instrument:  P300 Single-Channel GEN1 on right mount\n",
      "\n",
      "Aspirating 100.0 uL from A1 of eppendorf on 2 at 0.5 uL/sec\n",
      "\t Location:  Location(point=Point(x=146.45, y=72.02, z=12.0), labware=A1 of eppendorf on 2)\n",
      "\t Instrument:  P300 Single-Channel GEN1 on right mount\n",
      "\n",
      "Dispensing 100.0 uL into A1 of eppendorf on 2 at 2.0 uL/sec\n",
      "\t Location:  Location(point=Point(x=146.45, y=72.02, z=14.600000000000009), labware=A1 of eppendorf on 2)\n",
      "\t Instrument:  P300 Single-Channel GEN1 on right mount\n",
      "\n",
      "Aspirating 100.0 uL from A1 of eppendorf on 2 at 0.5 uL/sec\n",
      "\t Location:  Location(point=Point(x=146.45, y=72.02, z=12.0), labware=A1 of eppendorf on 2)\n",
      "\t Instrument:  P300 Single-Channel GEN1 on right mount\n",
      "\n",
      "Dispensing 100.0 uL into A1 of eppendorf on 2 at 2.0 uL/sec\n",
      "\t Location:  Location(point=Point(x=146.45, y=72.02, z=14.600000000000009), labware=A1 of eppendorf on 2)\n",
      "\t Instrument:  P300 Single-Channel GEN1 on right mount\n",
      "\n",
      "Aspirating 100.0 uL from A1 of eppendorf on 2 at 0.5 uL/sec\n",
      "\t Location:  Location(point=Point(x=146.45, y=72.02, z=12.0), labware=A1 of eppendorf on 2)\n",
      "\t Instrument:  P300 Single-Channel GEN1 on right mount\n",
      "\n",
      "Dispensing 100.0 uL into A1 of eppendorf on 2 at 2.0 uL/sec\n",
      "\t Location:  Location(point=Point(x=146.45, y=72.02, z=14.600000000000009), labware=A1 of eppendorf on 2)\n",
      "\t Instrument:  P300 Single-Channel GEN1 on right mount\n",
      "\n",
      "Aspirating 100.0 uL from A1 of eppendorf on 2 at 0.5 uL/sec\n",
      "\t Location:  Location(point=Point(x=146.45, y=72.02, z=12.0), labware=A1 of eppendorf on 2)\n",
      "\t Instrument:  P300 Single-Channel GEN1 on right mount\n",
      "\n",
      "Dispensing 100.0 uL into A1 of eppendorf on 2 at 2.0 uL/sec\n",
      "\t Location:  Location(point=Point(x=146.45, y=72.02, z=14.600000000000009), labware=A1 of eppendorf on 2)\n",
      "\t Instrument:  P300 Single-Channel GEN1 on right mount\n",
      "\n",
      "Aspirating 100.0 uL from A1 of eppendorf on 2 at 0.5 uL/sec\n",
      "\t Location:  Location(point=Point(x=146.45, y=72.02, z=12.0), labware=A1 of eppendorf on 2)\n",
      "\t Instrument:  P300 Single-Channel GEN1 on right mount\n",
      "\n",
      "Dispensing 100.0 uL into A1 of eppendorf on 2 at 2.0 uL/sec\n",
      "\t Location:  Location(point=Point(x=146.45, y=72.02, z=14.600000000000009), labware=A1 of eppendorf on 2)\n",
      "\t Instrument:  P300 Single-Channel GEN1 on right mount\n",
      "\n",
      "Blowing out at A1 of eppendorf on 2\n",
      "\t Location:  Location(point=Point(x=146.45, y=72.02, z=47.400000000000006), labware=A1 of eppendorf on 2)\n",
      "\t Instrument:  P300 Single-Channel GEN1 on right mount\n",
      "\n",
      "Aspirating 100.0 uL from A1 of eppendorf on 2 at 0.5 uL/sec\n",
      "\t Location:  Location(point=Point(x=146.45, y=72.02, z=14.800000000000004), labware=A1 of eppendorf on 2)\n",
      "\t Instrument:  P300 Single-Channel GEN1 on right mount\n",
      "\n",
      "Dispensing 100.0 uL into A1 of eppendorf on 2 at 2.0 uL/sec\n",
      "\t Location:  Location(point=Point(x=146.45, y=72.02, z=8.200000000000003), labware=A1 of eppendorf on 2)\n",
      "\t Instrument:  P300 Single-Channel GEN1 on right mount\n",
      "\n",
      "Aspirating 100.0 uL from A1 of eppendorf on 2 at 0.5 uL/sec\n",
      "\t Location:  Location(point=Point(x=146.45, y=72.02, z=14.800000000000004), labware=A1 of eppendorf on 2)\n",
      "\t Instrument:  P300 Single-Channel GEN1 on right mount\n",
      "\n",
      "Dispensing 100.0 uL into A1 of eppendorf on 2 at 2.0 uL/sec\n",
      "\t Location:  Location(point=Point(x=146.45, y=72.02, z=8.200000000000003), labware=A1 of eppendorf on 2)\n",
      "\t Instrument:  P300 Single-Channel GEN1 on right mount\n",
      "\n",
      "Aspirating 100.0 uL from A1 of eppendorf on 2 at 0.5 uL/sec\n",
      "\t Location:  Location(point=Point(x=146.45, y=72.02, z=14.800000000000004), labware=A1 of eppendorf on 2)\n",
      "\t Instrument:  P300 Single-Channel GEN1 on right mount\n",
      "\n",
      "Dispensing 100.0 uL into A1 of eppendorf on 2 at 2.0 uL/sec\n",
      "\t Location:  Location(point=Point(x=146.45, y=72.02, z=8.200000000000003), labware=A1 of eppendorf on 2)\n",
      "\t Instrument:  P300 Single-Channel GEN1 on right mount\n",
      "\n",
      "Aspirating 100.0 uL from A1 of eppendorf on 2 at 0.5 uL/sec\n",
      "\t Location:  Location(point=Point(x=146.45, y=72.02, z=14.800000000000004), labware=A1 of eppendorf on 2)\n",
      "\t Instrument:  P300 Single-Channel GEN1 on right mount\n",
      "\n",
      "Dispensing 100.0 uL into A1 of eppendorf on 2 at 2.0 uL/sec\n",
      "\t Location:  Location(point=Point(x=146.45, y=72.02, z=8.200000000000003), labware=A1 of eppendorf on 2)\n",
      "\t Instrument:  P300 Single-Channel GEN1 on right mount\n",
      "\n",
      "Aspirating 100.0 uL from A1 of eppendorf on 2 at 0.5 uL/sec\n",
      "\t Location:  Location(point=Point(x=146.45, y=72.02, z=14.800000000000004), labware=A1 of eppendorf on 2)\n",
      "\t Instrument:  P300 Single-Channel GEN1 on right mount\n",
      "\n",
      "Dispensing 100.0 uL into A1 of eppendorf on 2 at 2.0 uL/sec\n",
      "\t Location:  Location(point=Point(x=146.45, y=72.02, z=8.200000000000003), labware=A1 of eppendorf on 2)\n",
      "\t Instrument:  P300 Single-Channel GEN1 on right mount\n",
      "\n",
      "Blowing out at A1 of eppendorf on 2\n",
      "\t Location:  Location(point=Point(x=146.45, y=72.02, z=47.400000000000006), labware=A1 of eppendorf on 2)\n",
      "\t Instrument:  P300 Single-Channel GEN1 on right mount\n",
      "\n",
      "Returning tip\n",
      "\t No location in \"payload\" dictionary\n",
      "\t No instrument in \"payload\" dictionary\n",
      "\n",
      "Dropping tip into A1 of tiprack on 5\n",
      "\t Location:  Location(point=Point(x=146.88, y=164.74, z=35.7), labware=A1 of tiprack on 5)\n",
      "\t Instrument:  P300 Single-Channel GEN1 on right mount\n",
      "\n"
     ]
    }
   ],
   "source": [
    "# Set True/False as desired\n",
    "\n",
    "if False: # pretty print of run_log (too much detail?)\n",
    "    pprint(run_log)\n",
    "    \n",
    "if True: # print structured log (good detail)\n",
    "    for entry in run_log[0]:\n",
    "        print(entry['payload']['text'])\n",
    "        try:\n",
    "            print('\\t', 'Location: ', entry['payload']['location'])\n",
    "        except:\n",
    "            print('\\t No location in \"payload\" dictionary')\n",
    "        try:\n",
    "            print('\\t', 'Instrument: ', entry['payload']['instrument'])\n",
    "        except:\n",
    "            print('\\t No instrument in \"payload\" dictionary')\n",
    "        print()\n",
    "\n",
    "if False: # print basic log (standard GUI output)\n",
    "    for entry in run_log[0]:\n",
    "        print(entry['payload']['text'])\n",
    "\n",
    "if False: # print unstructured log (ugly)\n",
    "    print(run_log)"
   ]
  }
 ],
 "metadata": {
  "kernelspec": {
   "display_name": "Python 3",
   "language": "python",
   "name": "python3"
  },
  "language_info": {
   "codemirror_mode": {
    "name": "ipython",
    "version": 3
   },
   "file_extension": ".py",
   "mimetype": "text/x-python",
   "name": "python",
   "nbconvert_exporter": "python",
   "pygments_lexer": "ipython3",
   "version": "3.8.5"
  }
 },
 "nbformat": 4,
 "nbformat_minor": 2
}
