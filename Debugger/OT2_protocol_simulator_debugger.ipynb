{
 "cells": [
  {
   "cell_type": "markdown",
   "id": "reported-stuart",
   "metadata": {},
   "source": [
    "# Protocol debugger"
   ]
  },
  {
   "cell_type": "markdown",
   "id": "amino-wallet",
   "metadata": {},
   "source": [
    "This is an updated version of the original [Debugger.ipynb](https://github.com/AdReNa-lab/OT2/blob/main/Debugger/Debugger.ipynb), where the script has been repackaged into a Python module."
   ]
  },
  {
   "cell_type": "markdown",
   "id": "transparent-gentleman",
   "metadata": {},
   "source": [
    "## Import Debugger Python Module from Vesynta_Tech.OpenTrons2"
   ]
  },
  {
   "cell_type": "code",
   "execution_count": 1,
   "id": "stuck-executive",
   "metadata": {},
   "outputs": [],
   "source": [
    "from Vesynta_Tech.OpenTrons2.debugger import Protocol_Simulator, print_logs"
   ]
  },
  {
   "cell_type": "markdown",
   "id": "married-right",
   "metadata": {},
   "source": [
    "## Execute the Debugger:\n",
    "\n",
    "The file upon execution will:\n",
    "\n",
    "    1. Ask the User to select User Variables via an interactive GUI.\n",
    "    \n",
    "    2. If the Protocol file is an IPYNB, then automatically convert to a PY file compatible with OT2.\n",
    "    \n",
    "    3. Simulate the sequence of operation of the OT2 from the Protocol, to check for errors and bugs."
   ]
  },
  {
   "cell_type": "code",
   "execution_count": 2,
   "id": "charitable-virtue",
   "metadata": {},
   "outputs": [
    {
     "name": "stdout",
     "output_type": "stream",
     "text": [
      "\n",
      "Selected Protocol: C:/Users/yannm/Github/OT2/Custom protocol/SampleProtocol.ipynb\n",
      "\n",
      "Removing previous .py script...\n",
      "Generating new .py version...\n"
     ]
    },
    {
     "name": "stderr",
     "output_type": "stream",
     "text": [
      "C:\\Users\\yannm\\.opentrons\\robot_settings.json not found. Loading defaults\n",
      "C:\\Users\\yannm\\.opentrons\\deck_calibration.json not found. Loading defaults\n"
     ]
    },
    {
     "name": "stdout",
     "output_type": "stream",
     "text": [
      "SampleProtocol.ipynb successfully converted to SampleProtocol.py\n",
      "\n",
      "\n",
      "Selected Labware definitions folder: C:/Users/yannm/Github/OT2/Labware/JSON files \n",
      "\n"
     ]
    },
    {
     "ename": "ExceptionInProtocolError",
     "evalue": "NameError [line 29]: name 'sdfsg' is not defined",
     "output_type": "error",
     "traceback": [
      "\u001b[1;31m---------------------------------------------------------------------------\u001b[0m",
      "\u001b[1;31mNameError\u001b[0m                                 Traceback (most recent call last)",
      "\u001b[1;32m<ipython-input-2-3bf957424157>\u001b[0m in \u001b[0;36m<module>\u001b[1;34m\u001b[0m\n\u001b[0;32m      1\u001b[0m \u001b[1;32mtry\u001b[0m\u001b[1;33m:\u001b[0m\u001b[1;33m\u001b[0m\u001b[1;33m\u001b[0m\u001b[0m\n\u001b[1;32m----> 2\u001b[1;33m     \u001b[0mnotebook_path\u001b[0m\u001b[1;33m,\u001b[0m \u001b[0mcustom_labware_directory\u001b[0m\u001b[1;33m,\u001b[0m \u001b[0mrun_log\u001b[0m \u001b[1;33m=\u001b[0m \u001b[0mProtocol_Simulator\u001b[0m\u001b[1;33m(\u001b[0m\u001b[0mnotebook_path\u001b[0m\u001b[1;33m,\u001b[0m \u001b[0mcustom_labware_directory\u001b[0m\u001b[1;33m)\u001b[0m\u001b[1;33m.\u001b[0m\u001b[0mresults\u001b[0m\u001b[1;33m(\u001b[0m\u001b[1;33m)\u001b[0m\u001b[1;33m\u001b[0m\u001b[1;33m\u001b[0m\u001b[0m\n\u001b[0m\u001b[0;32m      3\u001b[0m \u001b[1;32mexcept\u001b[0m \u001b[0mNameError\u001b[0m\u001b[1;33m:\u001b[0m\u001b[1;33m\u001b[0m\u001b[1;33m\u001b[0m\u001b[0m\n",
      "\u001b[1;31mNameError\u001b[0m: name 'notebook_path' is not defined",
      "\nDuring handling of the above exception, another exception occurred:\n",
      "\u001b[1;31mNameError\u001b[0m                                 Traceback (most recent call last)",
      "\u001b[1;32m~\\env-opentrons\\lib\\site-packages\\opentrons\\protocols\\execution\\execute_python.py\u001b[0m in \u001b[0;36mrun_python\u001b[1;34m(proto, context)\u001b[0m\n\u001b[0;32m     60\u001b[0m     \u001b[1;32mtry\u001b[0m\u001b[1;33m:\u001b[0m\u001b[1;33m\u001b[0m\u001b[1;33m\u001b[0m\u001b[0m\n\u001b[1;32m---> 61\u001b[1;33m         \u001b[0mexec\u001b[0m\u001b[1;33m(\u001b[0m\u001b[1;34m'run(__context)'\u001b[0m\u001b[1;33m,\u001b[0m \u001b[0mnew_globs\u001b[0m\u001b[1;33m)\u001b[0m\u001b[1;33m\u001b[0m\u001b[1;33m\u001b[0m\u001b[0m\n\u001b[0m\u001b[0;32m     62\u001b[0m     \u001b[1;32mexcept\u001b[0m \u001b[1;33m(\u001b[0m\u001b[0mSmoothieAlarm\u001b[0m\u001b[1;33m,\u001b[0m \u001b[0masyncio\u001b[0m\u001b[1;33m.\u001b[0m\u001b[0mCancelledError\u001b[0m\u001b[1;33m,\u001b[0m \u001b[0mExecutionCancelledError\u001b[0m\u001b[1;33m)\u001b[0m\u001b[1;33m:\u001b[0m\u001b[1;33m\u001b[0m\u001b[1;33m\u001b[0m\u001b[0m\n",
      "\u001b[1;32m<string>\u001b[0m in \u001b[0;36m<module>\u001b[1;34m\u001b[0m\n",
      "\u001b[1;32m<protocol>\u001b[0m in \u001b[0;36mrun\u001b[1;34m(protocol)\u001b[0m\n",
      "\u001b[1;31mNameError\u001b[0m: name 'sdfsg' is not defined",
      "\nDuring handling of the above exception, another exception occurred:\n",
      "\u001b[1;31mExceptionInProtocolError\u001b[0m                  Traceback (most recent call last)",
      "\u001b[1;32m<ipython-input-2-3bf957424157>\u001b[0m in \u001b[0;36m<module>\u001b[1;34m\u001b[0m\n\u001b[0;32m      2\u001b[0m     \u001b[0mnotebook_path\u001b[0m\u001b[1;33m,\u001b[0m \u001b[0mcustom_labware_directory\u001b[0m\u001b[1;33m,\u001b[0m \u001b[0mrun_log\u001b[0m \u001b[1;33m=\u001b[0m \u001b[0mProtocol_Simulator\u001b[0m\u001b[1;33m(\u001b[0m\u001b[0mnotebook_path\u001b[0m\u001b[1;33m,\u001b[0m \u001b[0mcustom_labware_directory\u001b[0m\u001b[1;33m)\u001b[0m\u001b[1;33m.\u001b[0m\u001b[0mresults\u001b[0m\u001b[1;33m(\u001b[0m\u001b[1;33m)\u001b[0m\u001b[1;33m\u001b[0m\u001b[1;33m\u001b[0m\u001b[0m\n\u001b[0;32m      3\u001b[0m \u001b[1;32mexcept\u001b[0m \u001b[0mNameError\u001b[0m\u001b[1;33m:\u001b[0m\u001b[1;33m\u001b[0m\u001b[1;33m\u001b[0m\u001b[0m\n\u001b[1;32m----> 4\u001b[1;33m     \u001b[0mnotebook_path\u001b[0m\u001b[1;33m,\u001b[0m \u001b[0mcustom_labware_directory\u001b[0m\u001b[1;33m,\u001b[0m \u001b[0mrun_log\u001b[0m \u001b[1;33m=\u001b[0m \u001b[0mProtocol_Simulator\u001b[0m\u001b[1;33m(\u001b[0m\u001b[1;32mNone\u001b[0m\u001b[1;33m,\u001b[0m \u001b[1;32mNone\u001b[0m\u001b[1;33m)\u001b[0m\u001b[1;33m.\u001b[0m\u001b[0mresults\u001b[0m\u001b[1;33m(\u001b[0m\u001b[1;33m)\u001b[0m\u001b[1;33m\u001b[0m\u001b[1;33m\u001b[0m\u001b[0m\n\u001b[0m",
      "\u001b[1;32m~\\Github\\Development\\Vesynta_Tech\\OpenTrons2\\debugger.py\u001b[0m in \u001b[0;36m__init__\u001b[1;34m(self, notebook_path, custom_labware_directory)\u001b[0m\n\u001b[0;32m    148\u001b[0m                 \u001b[0mprint\u001b[0m\u001b[1;33m(\u001b[0m\u001b[1;34m\"\\nSelected Labware definitions folder:\"\u001b[0m\u001b[1;33m,\u001b[0m \u001b[0mself\u001b[0m\u001b[1;33m.\u001b[0m\u001b[0mcustom_labware_directory\u001b[0m\u001b[1;33m,\u001b[0m \u001b[1;34m\"\\n\"\u001b[0m\u001b[1;33m)\u001b[0m\u001b[1;33m\u001b[0m\u001b[1;33m\u001b[0m\u001b[0m\n\u001b[0;32m    149\u001b[0m                 \u001b[1;32mwith\u001b[0m \u001b[0mopen\u001b[0m\u001b[1;33m(\u001b[0m\u001b[0mself\u001b[0m\u001b[1;33m.\u001b[0m\u001b[0mscript_path\u001b[0m\u001b[1;33m,\u001b[0m \u001b[1;34m'r'\u001b[0m\u001b[1;33m)\u001b[0m \u001b[1;32mas\u001b[0m \u001b[0mfile\u001b[0m\u001b[1;33m:\u001b[0m\u001b[1;33m\u001b[0m\u001b[1;33m\u001b[0m\u001b[0m\n\u001b[1;32m--> 150\u001b[1;33m                     \u001b[0mself\u001b[0m\u001b[1;33m.\u001b[0m\u001b[0mrun_log\u001b[0m \u001b[1;33m=\u001b[0m \u001b[0msimulate\u001b[0m\u001b[1;33m(\u001b[0m\u001b[0mprotocol_file\u001b[0m\u001b[1;33m=\u001b[0m\u001b[0mfile\u001b[0m\u001b[1;33m,\u001b[0m \u001b[0mcustom_labware_paths\u001b[0m \u001b[1;33m=\u001b[0m \u001b[1;33m[\u001b[0m\u001b[0mself\u001b[0m\u001b[1;33m.\u001b[0m\u001b[0mcustom_labware_directory\u001b[0m\u001b[1;33m]\u001b[0m\u001b[1;33m)\u001b[0m\u001b[1;33m\u001b[0m\u001b[1;33m\u001b[0m\u001b[0m\n\u001b[0m\u001b[0;32m    151\u001b[0m     \u001b[1;32mdef\u001b[0m \u001b[0mauto_conversion\u001b[0m\u001b[1;33m(\u001b[0m\u001b[0mself\u001b[0m\u001b[1;33m)\u001b[0m\u001b[1;33m:\u001b[0m\u001b[1;33m\u001b[0m\u001b[1;33m\u001b[0m\u001b[0m\n\u001b[0;32m    152\u001b[0m         \u001b[1;32mif\u001b[0m \u001b[0mos\u001b[0m\u001b[1;33m.\u001b[0m\u001b[0mpath\u001b[0m\u001b[1;33m.\u001b[0m\u001b[0mexists\u001b[0m\u001b[1;33m(\u001b[0m\u001b[0mself\u001b[0m\u001b[1;33m.\u001b[0m\u001b[0mscript_path\u001b[0m\u001b[1;33m)\u001b[0m\u001b[1;33m:\u001b[0m\u001b[1;33m\u001b[0m\u001b[1;33m\u001b[0m\u001b[0m\n",
      "\u001b[1;32m~\\env-opentrons\\lib\\site-packages\\opentrons\\simulate.py\u001b[0m in \u001b[0;36msimulate\u001b[1;34m(protocol_file, file_name, custom_labware_paths, custom_data_paths, propagate_logs, hardware_simulator_file_path, log_level)\u001b[0m\n\u001b[0;32m    350\u001b[0m                                  broker)\n\u001b[0;32m    351\u001b[0m         \u001b[1;32mtry\u001b[0m\u001b[1;33m:\u001b[0m\u001b[1;33m\u001b[0m\u001b[1;33m\u001b[0m\u001b[0m\n\u001b[1;32m--> 352\u001b[1;33m             \u001b[0mexecute\u001b[0m\u001b[1;33m.\u001b[0m\u001b[0mrun_protocol\u001b[0m\u001b[1;33m(\u001b[0m\u001b[0mprotocol\u001b[0m\u001b[1;33m,\u001b[0m \u001b[0mcontext\u001b[0m\u001b[1;33m)\u001b[0m\u001b[1;33m\u001b[0m\u001b[1;33m\u001b[0m\u001b[0m\n\u001b[0m\u001b[0;32m    353\u001b[0m             \u001b[1;32mif\u001b[0m \u001b[0misinstance\u001b[0m\u001b[1;33m(\u001b[0m\u001b[0mprotocol\u001b[0m\u001b[1;33m,\u001b[0m \u001b[0mPythonProtocol\u001b[0m\u001b[1;33m)\u001b[0m\u001b[0;31m\\\u001b[0m\u001b[1;33m\u001b[0m\u001b[1;33m\u001b[0m\u001b[0m\n\u001b[0;32m    354\u001b[0m                \u001b[1;32mand\u001b[0m \u001b[0mprotocol\u001b[0m\u001b[1;33m.\u001b[0m\u001b[0mapi_level\u001b[0m \u001b[1;33m>=\u001b[0m \u001b[0mAPIVersion\u001b[0m\u001b[1;33m(\u001b[0m\u001b[1;36m2\u001b[0m\u001b[1;33m,\u001b[0m \u001b[1;36m0\u001b[0m\u001b[1;33m)\u001b[0m\u001b[0;31m\\\u001b[0m\u001b[1;33m\u001b[0m\u001b[1;33m\u001b[0m\u001b[0m\n",
      "\u001b[1;32m~\\env-opentrons\\lib\\site-packages\\opentrons\\protocols\\execution\\execute.py\u001b[0m in \u001b[0;36mrun_protocol\u001b[1;34m(protocol, context)\u001b[0m\n\u001b[0;32m     23\u001b[0m     \u001b[1;32mif\u001b[0m \u001b[0misinstance\u001b[0m\u001b[1;33m(\u001b[0m\u001b[0mprotocol\u001b[0m\u001b[1;33m,\u001b[0m \u001b[0mPythonProtocol\u001b[0m\u001b[1;33m)\u001b[0m\u001b[1;33m:\u001b[0m\u001b[1;33m\u001b[0m\u001b[1;33m\u001b[0m\u001b[0m\n\u001b[0;32m     24\u001b[0m         \u001b[1;32mif\u001b[0m \u001b[0mprotocol\u001b[0m\u001b[1;33m.\u001b[0m\u001b[0mapi_level\u001b[0m \u001b[1;33m>=\u001b[0m \u001b[0mAPIVersion\u001b[0m\u001b[1;33m(\u001b[0m\u001b[1;36m2\u001b[0m\u001b[1;33m,\u001b[0m \u001b[1;36m0\u001b[0m\u001b[1;33m)\u001b[0m\u001b[1;33m:\u001b[0m\u001b[1;33m\u001b[0m\u001b[1;33m\u001b[0m\u001b[0m\n\u001b[1;32m---> 25\u001b[1;33m             \u001b[0mrun_python\u001b[0m\u001b[1;33m(\u001b[0m\u001b[0mprotocol\u001b[0m\u001b[1;33m,\u001b[0m \u001b[0mcontext\u001b[0m\u001b[1;33m)\u001b[0m\u001b[1;33m\u001b[0m\u001b[1;33m\u001b[0m\u001b[0m\n\u001b[0m\u001b[0;32m     26\u001b[0m         \u001b[1;32melse\u001b[0m\u001b[1;33m:\u001b[0m\u001b[1;33m\u001b[0m\u001b[1;33m\u001b[0m\u001b[0m\n\u001b[0;32m     27\u001b[0m             raise RuntimeError(\n",
      "\u001b[1;32m~\\env-opentrons\\lib\\site-packages\\opentrons\\protocols\\execution\\execute_python.py\u001b[0m in \u001b[0;36mrun_python\u001b[1;34m(proto, context)\u001b[0m\n\u001b[0;32m     70\u001b[0m             \u001b[1;31m# No pretty names, just raise it\u001b[0m\u001b[1;33m\u001b[0m\u001b[1;33m\u001b[0m\u001b[1;33m\u001b[0m\u001b[0m\n\u001b[0;32m     71\u001b[0m             \u001b[1;32mraise\u001b[0m \u001b[0me\u001b[0m\u001b[1;33m\u001b[0m\u001b[1;33m\u001b[0m\u001b[0m\n\u001b[1;32m---> 72\u001b[1;33m         \u001b[1;32mraise\u001b[0m \u001b[0mExceptionInProtocolError\u001b[0m\u001b[1;33m(\u001b[0m\u001b[0me\u001b[0m\u001b[1;33m,\u001b[0m \u001b[0mtb\u001b[0m\u001b[1;33m,\u001b[0m \u001b[0mstr\u001b[0m\u001b[1;33m(\u001b[0m\u001b[0me\u001b[0m\u001b[1;33m)\u001b[0m\u001b[1;33m,\u001b[0m \u001b[0mframe\u001b[0m\u001b[1;33m.\u001b[0m\u001b[0mlineno\u001b[0m\u001b[1;33m)\u001b[0m\u001b[1;33m\u001b[0m\u001b[1;33m\u001b[0m\u001b[0m\n\u001b[0m",
      "\u001b[1;31mExceptionInProtocolError\u001b[0m: NameError [line 29]: name 'sdfsg' is not defined"
     ]
    }
   ],
   "source": [
    "try:\n",
    "    notebook_path, custom_labware_directory, run_log = Protocol_Simulator(notebook_path, custom_labware_directory).results()\n",
    "except NameError:\n",
    "    notebook_path, custom_labware_directory, run_log = Protocol_Simulator(None, None).results()"
   ]
  },
  {
   "cell_type": "markdown",
   "id": "revolutionary-destruction",
   "metadata": {},
   "source": [
    "## Run Simulation Logs:"
   ]
  },
  {
   "cell_type": "code",
   "execution_count": null,
   "id": "prostate-custody",
   "metadata": {},
   "outputs": [],
   "source": [
    "print_logs(run_log)"
   ]
  },
  {
   "cell_type": "code",
   "execution_count": null,
   "id": "middle-commitment",
   "metadata": {},
   "outputs": [],
   "source": []
  }
 ],
 "metadata": {
  "kernelspec": {
   "display_name": "env-opentrons",
   "language": "python",
   "name": "env-opentrons"
  },
  "language_info": {
   "codemirror_mode": {
    "name": "ipython",
    "version": 3
   },
   "file_extension": ".py",
   "mimetype": "text/x-python",
   "name": "python",
   "nbconvert_exporter": "python",
   "pygments_lexer": "ipython3",
   "version": "3.9.4"
  }
 },
 "nbformat": 4,
 "nbformat_minor": 5
}
