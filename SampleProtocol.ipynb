{
 "cells": [
  {
   "cell_type": "markdown",
   "metadata": {},
   "source": [
    "# Opentrons OT-2 protocol quick-start\n",
    "\n",
    "This notebook is a tool for new Opentrons users developing their protocols using the Python API. It includes several custom functions that assist with accurate pipetting."
   ]
  },
  {
   "cell_type": "markdown",
   "metadata": {},
   "source": [
    "## Header info\n",
    "\n",
    "If you make any significant modificiation to this file, please update the infomation in this cell...\n",
    "\n",
    "**Version:** 2\n",
    "\n",
    "**Committed by:** Alaric Taylor <alaric.taylor@ucl.ac.uk>\n",
    "**Last modified by:** Yann Mamie <y.mamie@ucl.ac.uk>\n",
    "\n",
    "**Commit date:** 2020-09-24\n",
    "\n",
    "**Changelog (from last version):**\n",
    "* First committ\n",
    "* Added a wetting, 2 mix and 2 transfer functions"
   ]
  },
  {
   "cell_type": "markdown",
   "metadata": {},
   "source": [
    "## Library imports"
   ]
  },
  {
   "cell_type": "code",
   "execution_count": 121,
   "metadata": {},
   "outputs": [],
   "source": [
    "from opentrons import protocol_api"
   ]
  },
  {
   "cell_type": "code",
   "execution_count": 122,
   "metadata": {},
   "outputs": [],
   "source": [
    "# Used within custom functions\n",
    "import numpy as np\n",
    "from scipy.interpolate import interp1d\n",
    "import math\n",
    "import time"
   ]
  },
  {
   "cell_type": "markdown",
   "metadata": {},
   "source": [
    "## Metadata\n",
    "Specifying `apiLevel` in the metadata is important... see [protocol API version control](https://docs.opentrons.com/v2/versioning.html) for more info."
   ]
  },
  {
   "cell_type": "code",
   "execution_count": 123,
   "metadata": {},
   "outputs": [],
   "source": [
    "metadata = {\n",
    "    'apiLevel': '2.6', # maximum supported API level is visible in the Opentrons App\n",
    "    'protocolName':'My Protocol',\n",
    "    'description':'Simple protocol to get started using the OT-2',\n",
    "    'author': 'Alaric Taylor'}"
   ]
  },
  {
   "cell_type": "markdown",
   "metadata": {},
   "source": [
    "## References and tools\n",
    "* Opentrons website\n",
    "    * [API documention](https://docs.opentrons.com/)\n",
    "    * [PDF reference guide](https://docs.opentrons.com/OpentronsPythonAPIV2.pdf)\n",
    "* GitHub\n",
    "    * [Library page](https://libraries.io/github/Opentrons/opentrons) (high-level)\n",
    "    * [API](https://github.com/Opentrons/opentrons/tree/edge/api)\n",
    "    * [API v2 source code](https://github.com/Opentrons/opentrons/tree/edge/api/docs/v2) (more detailed)\n",
    "* PyPi (package distribution)\n",
    "    * [PyPi](https://pypi.org/project/opentrons/)\n",
    "\n",
    "\n",
    "### Labware\n",
    "* Standard Opentrons labware [library](https://labware.opentrons.com/)\n",
    "* [Labware creator](https://labware.opentrons.com/create/) (for custom labware defenitions)\n",
    "\n",
    "\n",
    "### Markdown\n",
    " * Basic [syntax](https://www.markdownguide.org/basic-syntax/)\n",
    " * Wordpress [quick reference](https://wordpress.com/support/markdown-quick-reference/)"
   ]
  },
  {
   "cell_type": "markdown",
   "metadata": {},
   "source": [
    "# Custom pipetting functions\n",
    "\n",
    "These functions give fine control over the height at which an aspiration is made. This is implemented by tracking meniscus heights in each well. Thereby,\n",
    "* maximising the accuracy of the pipette stroke (by pipetting at the top of a liquid)\n",
    "* avoiding the formation of droplets along the outer pipette shaft\n",
    "* preventing silent failures of a protocol e.g. if stock solution volumes are low and a pipette stroke fails to pick up liquid"
   ]
  },
  {
   "cell_type": "code",
   "execution_count": 124,
   "metadata": {},
   "outputs": [],
   "source": [
    "def custom_aspirate(pipette, volume, location, tip_submersion_depth = 2, safety_height = 0.5):\n",
    "    # aspiration_depth (in mm) beneath meniscus\n",
    "    # safety_height prevents the tip from crashing into bottom of the well\n",
    "    \n",
    "    # Check a headroom attribute has been defined for the current location \n",
    "    if not hasattr(location, \"headroom\"): # If not, break \n",
    "        print('Headroom not set for ' + str(location))\n",
    "        \n",
    "    # Check a gradations attribute has been defined for the current location \n",
    "    if not hasattr(location, \"volume_headroom_functions\"): # If not, break \n",
    "        print('volume_headroom_functions (based upon gradations) not set for ' + str(location))\n",
    "        \n",
    "    # Unpack the vh functions that have been attributed to this tube\n",
    "    v_given_h = location.volume_headroom_functions[0]\n",
    "    h_given_v = location.volume_headroom_functions[1]\n",
    "    \n",
    "    \n",
    "    final_volume = v_given_h(location.headroom) - volume\n",
    "    # print('final_volume ', str(final_volume))\n",
    "    depth_to_aspirate = h_given_v(final_volume) + tip_submersion_depth\n",
    "    # print('depth_to_aspirate ', str(depth_to_aspirate))\n",
    "    \n",
    "    location.headroom = h_given_v(final_volume)\n",
    "    \n",
    "    # Safety checking\n",
    "    if depth_to_aspirate > location._depth - safety_height: # e.g. 0.5mm above the bottom of the well\n",
    "        depth_to_aspirate = location._depth - safety_height\n",
    "        print('Warning, aspiration height very low...')\n",
    "    \n",
    "    if depth_to_aspirate < 0: #i.e. significantly above the well\n",
    "        depth_to_aspirate = 0\n",
    "    \n",
    "    pipette.move_to(location.top(-depth_to_aspirate))\n",
    "    pipette.aspirate(volume)\n",
    "    \n"
   ]
  },
  {
   "cell_type": "markdown",
   "metadata": {},
   "source": [
    "The `custom_dispense()` function record the volume of fluid added to a well."
   ]
  },
  {
   "cell_type": "code",
   "execution_count": 125,
   "metadata": {},
   "outputs": [],
   "source": [
    "def custom_dispense(pipette, volume, location):\n",
    "    # Air dispensing\n",
    "    \n",
    "    # Check a headroom attribute has been defined for the current location \n",
    "    if not hasattr(location, \"headroom\"): # If not, break \n",
    "        print('Headroom not set for ' + str(location))\n",
    "        \n",
    "    # Check a gradations attribute has been defined for the current location \n",
    "    if not hasattr(location, \"volume_headroom_functions\"): # If not, break \n",
    "        print('volume_headroom_functions (based upon gradations) not set for ' + str(location))\n",
    "        \n",
    "    # Unpack the vh functions that have been attributed to this tube\n",
    "    v_given_h = location.volume_headroom_functions[0]\n",
    "    h_given_v = location.volume_headroom_functions[1]\n",
    "    \n",
    "    current_filled_volume = v_given_h(location.headroom)\n",
    "    \n",
    "    # Set new headroom from volume info\n",
    "    location.headroom = h_given_v(current_filled_volume + volume)\n",
    "    \n",
    "    pipette.move_to(location.top())\n",
    "    pipette.dispense(volume)"
   ]
  },
  {
   "cell_type": "code",
   "execution_count": 126,
   "metadata": {},
   "outputs": [],
   "source": [
    "def custom_wetting(pipette, volume, location):\n",
    "    custom_aspirate(pipette, volume, location)\n",
    "    custom_dispense(pipette, volume, location)\n",
    "    pipette.blow_out()\n",
    "    pipette.touch_tip()"
   ]
  },
  {
   "cell_type": "code",
   "execution_count": 127,
   "metadata": {},
   "outputs": [],
   "source": [
    "def custom_mixing_basic(pipette, volume, location, cycles, tip): # Using basic function, height changed for dispensing\n",
    "    pipette.pick_up_tip(tip)\n",
    "    for i in range(0, cycles):\n",
    "        custom_aspirate(pipette, volume, location)\n",
    "        custom_dispense(pipette, volume, location)\n",
    "    pipette.blow_out()\n",
    "    pipette.touch_tip()\n",
    "    pipette.return_tip()"
   ]
  },
  {
   "cell_type": "code",
   "execution_count": 128,
   "metadata": {},
   "outputs": [],
   "source": [
    "def custom_mixing_static(pipette, volume, location, cycles, tip, safety_height = 0.5): # Using mix function, static\n",
    "    \n",
    "    # Check a headroom attribute has been defined for the current location \n",
    "    if not hasattr(location, \"headroom\"): # If not, break \n",
    "        print('Headroom not set for ' + str(location))\n",
    "        \n",
    "    # Check a gradations attribute has been defined for the current location \n",
    "    if not hasattr(location, \"volume_headroom_functions\"): # If not, break \n",
    "        print('volume_headroom_functions (based upon gradations) not set for ' + str(location))\n",
    "        \n",
    "    # Unpack the vh functions that have been attributed to this tube\n",
    "    v_given_h = location.volume_headroom_functions[0]\n",
    "    h_given_v = location.volume_headroom_functions[1]\n",
    "    \n",
    "    \n",
    "    intermediate_v = v_given_h(location.headroom) - volume\n",
    "    mixing_h = (location.depth() - h_given_v(intermediate_v))/2          # Set mixing position to the middle of filled height\n",
    "    \n",
    "    if mixing_h <= safety_height:                         # Verify that there is a sufficient volume to perform the desired mixing\n",
    "        print('Mixing volume is too high compared to the total volume, mixing cancelled')\n",
    "    else:    \n",
    "        pipette.pick_up_tip(tip)\n",
    "        pipette.mix(cycles, volume, target.bottom(mixing_h))\n",
    "        pipette.blow_out()\n",
    "        pipette.touch_tip()\n",
    "        pipette.return_tip()"
   ]
  },
  {
   "cell_type": "code",
   "execution_count": 129,
   "metadata": {},
   "outputs": [],
   "source": [
    "def custom_transfer_simple(pipette, volume, source, destination, pipette_max_V):\n",
    "    if volume <= pipette_max_V:                 # If the volume to transfer is lower than the pipette volume: simple transfer using custom functions\n",
    "        custom_aspirate(pipette, volume, source)\n",
    "        pipette.touch_tip()\n",
    "        custom_dispense(pipette, volume+40, destination)\n",
    "        pipette.blow_out()\n",
    "    else:                                       # If the volume to transfer is higher than the pipette volume: several transfer steps at equal volume\n",
    "        V_transfer = volume/math.ceil(volume/pipette_max_V)\n",
    "        i = 0\n",
    "        for i in range(0, math.ceil(volume/pipette_max_V)):\n",
    "            custom_aspirate(pipette, V_transfer, source)\n",
    "            pipette.touch_tip()\n",
    "            custom_dispense(pipette, V_transfer+40, destination)\n",
    "            pipette.blow_out()  "
   ]
  },
  {
   "cell_type": "code",
   "execution_count": 130,
   "metadata": {},
   "outputs": [],
   "source": [
    "def custom_transfer_reverse(pipette, volume, source, destination, pipette_max_V, extra_V = 10):\n",
    "    if volume <= pipette_max_V - extra_V:      # If the volume to transfer (including extra) is lower than the pipette volume: simple transfer using custom functions\n",
    "        if volume + extra_V >= pipette_max_V:\n",
    "            extra_V = pipette_max_V - volume\n",
    "        custom_aspirate(pipette, volume+extra_V, source)\n",
    "        pipette.touch_tip()\n",
    "        custom_dispense(pipette, volume, destination)\n",
    "        custom_dispense(pipette, extra_V+50, source)   # Ensures all the extra volume is returned to the source\n",
    "        pipette.blow_out()\n",
    "        pipette.touch_tip()\n",
    "    else:                                       # If the volume to transfer is higher than the pipette volume: several transfer steps at equal volume\n",
    "        transfer_number = math.ceil(volume/pipette_max_V)  # math.ceil rounds up to the next integer, this calculates the required number of transfer steps\n",
    "        V_transfer = volume/transfer_number\n",
    "        if V_transfer > pipette_max_V - extra_V:    # If the calculated transfer volume is too high to accomodate the extra volume, adds a step to guarantee all the volume can be transferred\n",
    "            transfer_number += 1                    # The number of steps and volume are recalculated accordingly\n",
    "            V_transfer = volume/transfer_number\n",
    "        i = 0\n",
    "        for i in range(0, transfer_number):         # Sequential addition of the desired volume using custom functions\n",
    "            custom_aspirate(pipette, V_transfer+extra_V, source)\n",
    "            pipette.touch_tip()\n",
    "            custom_dispense(pipette, V_transfer, destination)\n",
    "            custom_dispense(pipette, extra_V+50, source)   # Ensures all the extra volume is returned to the source\n",
    "            pipette.blow_out()\n",
    "            pipette.touch_tip()"
   ]
  },
  {
   "cell_type": "markdown",
   "metadata": {},
   "source": [
    "Remaining functions (that need writing):\n",
    "* Mixing\n",
    "* Wetting\n",
    "* Transfer (forward/standard)\n",
    "* Transfer (reverse) e.g. for viscous liquids\n",
    "\n",
    "Anticipated challenges:\n",
    "* Pausing the protocol within a custom function is tricky as the `protocol` instance is not passed to the function. So `time.sleep()` has to be used instead...which impacts upon the simulation of the protocol."
   ]
  },
  {
   "cell_type": "markdown",
   "metadata": {},
   "source": [
    "## Attributes for meniscus height tracking"
   ]
  },
  {
   "cell_type": "code",
   "execution_count": 131,
   "metadata": {},
   "outputs": [],
   "source": [
    "####################################\n",
    "# Generate volume_headroom_functions\n",
    "# for each type of tube in use from \n",
    "# measured gradations...\n",
    "\n",
    "def gradations_to_vh(gradations):\n",
    "    # Converts gradations (numpy array):\n",
    "    # to tuple containg the v_given_h and h_given_v interpolation functions\n",
    "    \n",
    "    # Slicing the gradation array\n",
    "    h = gradations[:,0] # headroom i.e. meniscus to top of container\n",
    "    v = gradations[:,1] # fill volume\n",
    "    \n",
    "    maximum_headroom = gradations[:,0][-1]\n",
    "    maximum_volume = gradations[:,1][0]\n",
    "    \n",
    "    # Interpolation functions\n",
    "    # if kind='cubic', there is a risk the interpolated function\n",
    "    # becomes negative close to the bottom of the well\n",
    "    v_given_h = interp1d(h, v, kind='linear', assume_sorted=False, bounds_error=False, fill_value=(maximum_volume,0))\n",
    "    h_given_v = interp1d(v, h, kind='linear', assume_sorted=False, bounds_error=False, fill_value=(maximum_headroom,0))\n",
    "    \n",
    "    # The order of the returned function is referenced by \n",
    "    # the custom_aspirate() and custom_dispense() functions\n",
    "    return [v_given_h, h_given_v] "
   ]
  },
  {
   "cell_type": "markdown",
   "metadata": {},
   "source": [
    "Below, we define the gradation profiles for our standard tubes/wells. These are then converted to 'volume_headroom_functions' using `gradations_to_vh()`, above. The 'volume_headroom_functions' are then ascribed to each well instance at the beginning of the protocol."
   ]
  },
  {
   "cell_type": "code",
   "execution_count": 132,
   "metadata": {},
   "outputs": [],
   "source": [
    "#####################################\n",
    "# Gradations defined as a numpy array \n",
    "# (cast from a list of sublists)\n",
    "# Each sublost is structured as [meniscus_to_top_in_mm, uL_volume]\n",
    "\n",
    "#####\n",
    "# 1.5ml Eppendorph tubes\n",
    "gradations = np.array([[1,1500], # Top gradation of container i.e. maximum liquid fill\n",
    "                       [5,1000],\n",
    "                       [10,500],\n",
    "                       [13, 20],\n",
    "                       [15,0]]) # Bottom of container i.e. no liquid\n",
    "\n",
    "tube_vh = gradations_to_vh(gradations)\n",
    "\n",
    "#####\n",
    "# 15ml Falcon tubes\n",
    "\n",
    "\n",
    "#####\n",
    "# 50ml Falcon tubes\n",
    "\n",
    "\n",
    "#####\n",
    "# etc.\n",
    "\n"
   ]
  },
  {
   "cell_type": "markdown",
   "metadata": {},
   "source": [
    "### OT-2 deck layout\n",
    "\n",
    "|\t|\t|\t|\n",
    "|:--:\t|:--:\t|:-----:\t|\n",
    "| 10 \t| 11 \t| Trash \t|\n",
    "|  7 \t|  8 \t|   9   \t|\n",
    "|  4 \t|  5 \t|   6   \t|\n",
    "|  1 \t|  2 \t|   3   \t|\n",
    "\n",
    "### Well referencing schema\n",
    "\n",
    "| <blank>| <blank>| <blank>| <blank>| <blank>|\n",
    "|:--:\t|:--:\t|:-----:\t|:-----:\t|:-----:\t|\n",
    "|<blank>\t|**1**\t|**2**\t| **3** | … |\n",
    "| **A**| <blank>| <blank>| <blank>| <blank>|\n",
    "| **B** | <blank>| <blank>| <blank>| <blank>|\n",
    "|  **C** | <blank>| <blank>| <blank>| <blank>|\n",
    "|  ⋮  \t| <blank>| <blank>| <blank>| <blank>|"
   ]
  },
  {
   "cell_type": "markdown",
   "metadata": {},
   "source": [
    "# The Protocol"
   ]
  },
  {
   "cell_type": "code",
   "execution_count": 133,
   "metadata": {},
   "outputs": [],
   "source": [
    "# protocol run function. the part after the colon lets your editor know\n",
    "# where to look for autocomplete suggestions...but doesn't seem to work with Jupyter\n",
    "\n",
    "def run(protocol: protocol_api.ProtocolContext):\n",
    "    \n",
    "    #############\n",
    "    # Deck layout\n",
    "    \n",
    "    # Labware\n",
    "    tiprack = protocol.load_labware('opentrons_96_tiprack_300ul',\n",
    "                                        location='1',\n",
    "                                        label='tiprack')\n",
    "    tubes = protocol.load_labware('opentrons_24_aluminumblock_nest_1.5ml_screwcap',\n",
    "                                        location='2',\n",
    "                                        label='tubes')\n",
    "    \n",
    "    # Pipettes\n",
    "    p50 = protocol.load_instrument('p50_single', 'left', tip_racks=[tiprack])\n",
    "    p300 = protocol.load_instrument('p300_single', 'right', tip_racks=[tiprack])\n",
    "    \n",
    "    \n",
    "    ######################\n",
    "    # Named tubes and tips\n",
    "    \n",
    "    # Tips\n",
    "    methanol_tip = tiprack['A1']\n",
    "    water_tip = tiprack['A2']\n",
    "    mixture_tip = tiprack['A3']\n",
    "\n",
    "    # Tubes\n",
    "    methanol = tubes['A1']\n",
    "    water = tubes['A2']\n",
    "    mixture = tubes['A3']\n",
    "    \n",
    "    # Setting instance attributes for \n",
    "    # all wells... simpler than \n",
    "    # extending classes and labware defenitions?\n",
    "    #\n",
    "    # Add for loop for each labware item\n",
    "    for well in tubes.wells():\n",
    "        well.headroom = well._depth # Initiated, but considered empty\n",
    "        \n",
    "        # Generate volume_headroom_functions uniques for\n",
    "        # each well type by defining gradations and then \n",
    "        # running this through the gradations_to_vh() function, above\n",
    "        well.volume_headroom_functions = tube_vh\n",
    "    \n",
    "    # Modify instance attributes for vials that start the protocol\n",
    "    # filled with liquid...\n",
    "    # Headroom measured in mm from meniscus to top of tube\n",
    "    methanol.headroom = 5\n",
    "    \n",
    "\n",
    "    ####################\n",
    "    ## General debugging\n",
    "    # protocol.comment('Test comment')\n",
    "    # protocol.pause('Test pause')\n",
    "    \n",
    "    ## Debugging instance attributes\n",
    "    #attrs = vars(methanol)\n",
    "    #print(str(attrs))\n",
    "    \n",
    "    #########\n",
    "    # Actions\n",
    "    \n",
    "    p50.pick_up_tip(methanol_tip)\n",
    "    p50.move_to(methanol.bottom(2)) # move to 2mm above the bottom of well A1\n",
    "    custom_wetting(p50, 50, methanol)\n",
    "    #custom_aspirate(p50, 50, methanol)\n",
    "    custom_transfer_simple(p50, 50, methanol, mixture, 50)\n",
    "    p50.return_tip()\n",
    "    \n",
    "    p50.pick_up_tip(water_tip)\n",
    "    custom_wetting(p50, 50, water)\n",
    "    custom_transfer_reverse(p50, 100, water, mixture, 50)\n",
    "    p50.drop_tip()\n",
    "    \n",
    "    custom_mixing_basic(p50, 50, mixture, 2, mixture_tip)\n",
    "    custom_mixing_static(p50, 50, mixture, 2, mixture_tip)\n",
    "    \n",
    "    #p50.drop_tip() # drop in trash\n",
    "    \n",
    "    protocol.pause()\n",
    "    time.sleep(1)\n",
    "    protocol.resume()"
   ]
  },
  {
   "cell_type": "markdown",
   "metadata": {},
   "source": [
    "## Simulating protocol\n",
    "1. Save as Python file (File > Download as...)\n",
    "2. Inside python terminal, run:\n",
    "\n",
    "`opentrons_simulate my_protocol.py`\n",
    "\n",
    "Note, if using custom labware defenitions, append the following:\n",
    "\n",
    "`--custom-labware-path=\"C:\\Custom Labware\"`\n"
   ]
  }
 ],
 "metadata": {
  "kernelspec": {
   "display_name": "Python 3",
   "language": "python",
   "name": "python3"
  },
  "language_info": {
   "codemirror_mode": {
    "name": "ipython",
    "version": 3
   },
   "file_extension": ".py",
   "mimetype": "text/x-python",
   "name": "python",
   "nbconvert_exporter": "python",
   "pygments_lexer": "ipython3",
   "version": "3.8.3"
  }
 },
 "nbformat": 4,
 "nbformat_minor": 2
}
