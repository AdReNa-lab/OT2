{
 "cells": [
  {
   "cell_type": "markdown",
   "metadata": {},
   "source": [
    "# Opentrons OT-2 protocol quick-start\n",
    "\n",
    "This notebook is a tool for new Opentrons users developing their protocols using the Python API. It includes several custom functions that assist with accurate pipetting."
   ]
  },
  {
   "cell_type": "markdown",
   "metadata": {},
   "source": [
    "## Header info\n",
    "\n",
    "If you make any significant modificiation to this file, please update the infomation in this cell...\n",
    "\n",
    "### Changelog\n",
    "**Version:** 1<br>\n",
    "_Comitted by:_ Alaric Taylor <alaric.taylor@ucl.ac.uk><br>\n",
    "_Commit date:_ 2020-10-12<br>\n",
    "* First committ\n",
    "\n"
   ]
  },
  {
   "cell_type": "markdown",
   "metadata": {},
   "source": [
    "## Library imports"
   ]
  },
  {
   "cell_type": "code",
   "execution_count": 1,
   "metadata": {},
   "outputs": [],
   "source": [
    "from opentrons import protocol_api"
   ]
  },
  {
   "cell_type": "markdown",
   "metadata": {},
   "source": [
    "## Metadata\n",
    "Specifying `apiLevel` in the metadata is important... see [protocol API version control](https://docs.opentrons.com/v2/versioning.html) for more info."
   ]
  },
  {
   "cell_type": "code",
   "execution_count": 2,
   "metadata": {},
   "outputs": [],
   "source": [
    "metadata = {\n",
    "    'apiLevel': '2.6', # maximum supported API level is visible in the Opentrons App\n",
    "    'protocolName':'My Protocol',\n",
    "    'description':'Simple protocol to get started using the OT-2',\n",
    "    'author': 'Alaric Taylor'}"
   ]
  },
  {
   "cell_type": "markdown",
   "metadata": {},
   "source": [
    "## References and tools\n",
    "* Opentrons website\n",
    "    * [API documention](https://docs.opentrons.com/)\n",
    "    * [PDF reference guide](https://docs.opentrons.com/OpentronsPythonAPIV2.pdf)\n",
    "    * [Support articles](https://support.opentrons.com/)\n",
    "    * [Protocol library](https://protocols.opentrons.com/)\n",
    "* GitHub\n",
    "    * [Library page](https://libraries.io/github/Opentrons/opentrons) (high-level)\n",
    "    * [API](https://github.com/Opentrons/opentrons/tree/edge/api)\n",
    "    * [API v2 source code](https://github.com/Opentrons/opentrons/tree/edge/api/docs/v2) (more detailed)\n",
    "* PyPi (package distribution)\n",
    "    * [PyPi](https://pypi.org/project/opentrons/)\n",
    "\n",
    "\n",
    "### Labware\n",
    "* Standard Opentrons labware [library](https://labware.opentrons.com/)\n",
    "* [Labware creator](https://labware.opentrons.com/create/) (for custom labware defenitions)\n",
    "\n",
    "\n",
    "### Markdown\n",
    " * Basic [syntax](https://www.markdownguide.org/basic-syntax/)\n",
    " * Wordpress [quick reference](https://wordpress.com/support/markdown-quick-reference/)\n",
    " * [Cheat sheet](https://github.com/adam-p/markdown-here/wiki/Markdown-Cheatsheet#code)"
   ]
  },
  {
   "cell_type": "markdown",
   "metadata": {},
   "source": [
    "### OT-2 deck layout\n",
    "\n",
    "These are each called 'slots' on the deck, they are the locations that you place your labware...\n",
    "\n",
    "It is good practice to draw out your deck layout in each of your protocol scripts so you can easily setup your experiment.\n",
    "\n",
    "|\t<blank>|<blank>\t|\t<blank>|\n",
    "|:--:\t|:--:\t|:-----:\t|\n",
    "| 10 \t| 11 \t| Trash \t|\n",
    "|  7 \t|  8 \t|   9   \t|\n",
    "|  4 \t|  5 \t|   6   \t|\n",
    "|  1 \t|  2 \t|   3   \t|\n",
    "\n",
    "### Well referencing schema\n",
    "\n",
    "Each, of these locations are referred to as 'wells'...\n",
    "\n",
    "| <blank>| <blank>| <blank>| <blank>| <blank>|\n",
    "|:--:\t|:--:\t|:-----:\t|:-----:\t|:-----:\t|\n",
    "|<blank>\t|**1**\t|**2**\t| **3** | … |\n",
    "| **A**| <blank>| <blank>| <blank>| <blank>|\n",
    "| **B** | <blank>| <blank>| <blank>| <blank>|\n",
    "|  **C** | <blank>| <blank>| <blank>| <blank>|\n",
    "|  ⋮  \t| <blank>| <blank>| <blank>| <blank>|"
   ]
  },
  {
   "cell_type": "markdown",
   "metadata": {},
   "source": [
    "# The Protocol"
   ]
  },
  {
   "cell_type": "code",
   "execution_count": 3,
   "metadata": {},
   "outputs": [],
   "source": [
    "# protocol run function. the part after the colon lets your editor know\n",
    "# where to look for autocomplete suggestions...but doesn't seem to work with Jupyter\n",
    "\n",
    "def run(protocol: protocol_api.ProtocolContext):\n",
    "    \n",
    "    #############\n",
    "    # Deck layout\n",
    "\n",
    "    # Labware and which 'slots' they are placed in\n",
    "    tiprack = protocol.load_labware('opentrons_96_tiprack_300ul',\n",
    "                                        location='5',\n",
    "                                        label='tiprack')\n",
    "\n",
    "    rack = protocol.load_labware('corning_96_wellplate_360ul_flat',\n",
    "                                        location='1',\n",
    "                                        label='96-well plate')\n",
    "    \n",
    "    ##########\n",
    "    # Pipettes\n",
    "    p50 = protocol.load_instrument('p50_single', 'left', tip_racks=[tiprack])\n",
    "    p300 = protocol.load_instrument('p300_single', 'right', tip_racks=[tiprack])\n",
    "    \n",
    "    \n",
    "    ######################\n",
    "    # Named tubes and tips'\n",
    "    \n",
    "    # Tips\n",
    "    methanol_tip = tiprack['A1']\n",
    "\n",
    "    # Tubes\n",
    "    methanol = rack['A1']\n",
    "    water = rack['A2']\n",
    "    mixture = rack['A3']\n",
    "    \n",
    "\n",
    "    ####################\n",
    "    ## General debugging\n",
    "    # protocol.comment('Test comment')\n",
    "    # protocol.pause('Test pause')\n",
    "    \n",
    "    ## Debugging instance attributes\n",
    "    #attrs = vars(methanol)\n",
    "    #print(str(attrs))\n",
    "    \n",
    "    #########\n",
    "    # Actions\n",
    "    \n",
    "    # Labware testing\n",
    "   \n",
    "    p50.pick_up_tip()\n",
    "    \n",
    "    p50.aspirate(50, methanol)\n",
    "    p50.dispense(50, mixture)\n",
    "    \n",
    "    p50.return_tip()\n",
    "    \n",
    "    \n",
    "    p300.pick_up_tip()\n",
    "    \n",
    "    p300.aspirate(200, water)\n",
    "    p300.dispense(200, mixture)\n",
    "    \n",
    "    p300.drop_tip()\n",
    "    \n",
    "    #protocol.comment('') # prints message in run log\n",
    "    #protocol.pause()\n",
    "    #protocol.set_rail_lights(on=True)\n",
    "    #time.sleep(1)\n",
    "    #protocol.resume()"
   ]
  }
 ],
 "metadata": {
  "kernelspec": {
   "display_name": "Python 3",
   "language": "python",
   "name": "python3"
  },
  "language_info": {
   "codemirror_mode": {
    "name": "ipython",
    "version": 3
   },
   "file_extension": ".py",
   "mimetype": "text/x-python",
   "name": "python",
   "nbconvert_exporter": "python",
   "pygments_lexer": "ipython3",
   "version": "3.7.3"
  }
 },
 "nbformat": 4,
 "nbformat_minor": 2
}
